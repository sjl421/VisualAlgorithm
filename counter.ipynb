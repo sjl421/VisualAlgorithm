{
 "metadata": {
  "name": "",
  "signature": "sha256:eed6e004deb96396404e0dd2bfdaa198f9be5dfea3d4478f834c8af1db37675a"
 },
 "nbformat": 3,
 "nbformat_minor": 0,
 "worksheets": [
  {
   "cells": [
    {
     "cell_type": "code",
     "collapsed": false,
     "input": [
      "from glob import glob\n",
      "\n",
      "L = 25\n",
      "M = 10\n",
      "N = 4\n",
      "SEP = ' | '\n",
      "S = len(SEP)\n",
      "HR = '\u2014' * (L + (M + S) * N)\n",
      "\n",
      "sp = lambda h, l: SEP.join([h.ljust(L)] + [str(i).rjust(M) for i in l])\n",
      "\n",
      "counts = [0] * N\n",
      "\n",
      "print sp('Files', ['Lines', 'lines', 'Bytes', 'bytes'])\n",
      "print HR \n",
      "\n",
      "for f in sum(map(glob, ['*.py', '*.pyw', '*/*.py']), []):\n",
      "    content = open(f,'rb').read()\n",
      "    lines = content.split('\\n')\n",
      "    sums = [\n",
      "        len(lines),\n",
      "        sum(map(bool, lines)),\n",
      "        len(content),\n",
      "        len(''.join(content.split()))\n",
      "    ]\n",
      "    for i, n in enumerate(sums):\n",
      "        counts[i] += n\n",
      "    print sp(f, sums)\n",
      "\n",
      "print HR\n",
      "print sp('Count', counts)"
     ],
     "language": "python",
     "metadata": {},
     "outputs": [
      {
       "output_type": "stream",
       "stream": "stdout",
       "text": [
        "Files                     |      Lines |      lines |      Bytes |      bytes\n",
        "\u2014\u2014\u2014\u2014\u2014\u2014\u2014\u2014\u2014\u2014\u2014\u2014\u2014\u2014\u2014\u2014\u2014\u2014\u2014\u2014\u2014\u2014\u2014\u2014\u2014\u2014\u2014\u2014\u2014\u2014\u2014\u2014\u2014\u2014\u2014\u2014\u2014\u2014\u2014\u2014\u2014\u2014\u2014\u2014\u2014\u2014\u2014\u2014\u2014\u2014\u2014\u2014\u2014\u2014\u2014\u2014\u2014\u2014\u2014\u2014\u2014\u2014\u2014\u2014\u2014\u2014\u2014\u2014\u2014\u2014\u2014\u2014\u2014\u2014\u2014\u2014\u2014\n",
        "board.py                  |         23 |         22 |        606 |        463\n",
        "debugger.py               |         85 |         84 |       2433 |       1691\n",
        "editor.py                 |         49 |         48 |       1552 |       1176\n",
        "visualization.py          |         25 |         24 |        626 |        455\n",
        "main_window.pyw           |        410 |        409 |      15657 |      10093\n",
        "examples\\binary_tree.py   |         54 |         53 |       1056 |        671\n",
        "examples\\maze.py          |         46 |         45 |        899 |        656\n",
        "examples\\rb_tree.py       |        203 |        202 |       5487 |       3535\n",
        "examples\\sort.py          |        101 |         78 |       1972 |       1133\n",
        "structures\\base.py        |         40 |         39 |       1092 |        713\n",
        "structures\\list.py        |         33 |         32 |        941 |        628\n",
        "structures\\matrix.py      |         62 |         61 |       1828 |       1148\n",
        "structures\\tree.py        |        162 |        161 |       4511 |       3042\n",
        "structures\\__init__.py    |          6 |          5 |         99 |         77\n",
        "\u2014\u2014\u2014\u2014\u2014\u2014\u2014\u2014\u2014\u2014\u2014\u2014\u2014\u2014\u2014\u2014\u2014\u2014\u2014\u2014\u2014\u2014\u2014\u2014\u2014\u2014\u2014\u2014\u2014\u2014\u2014\u2014\u2014\u2014\u2014\u2014\u2014\u2014\u2014\u2014\u2014\u2014\u2014\u2014\u2014\u2014\u2014\u2014\u2014\u2014\u2014\u2014\u2014\u2014\u2014\u2014\u2014\u2014\u2014\u2014\u2014\u2014\u2014\u2014\u2014\u2014\u2014\u2014\u2014\u2014\u2014\u2014\u2014\u2014\u2014\u2014\u2014\n",
        "Count                     |       1299 |       1263 |      38759 |      25481\n"
       ]
      }
     ],
     "prompt_number": 3
    },
    {
     "cell_type": "code",
     "collapsed": false,
     "input": [],
     "language": "python",
     "metadata": {},
     "outputs": []
    }
   ],
   "metadata": {}
  }
 ]
}